{
 "cells": [
  {
   "cell_type": "code",
   "execution_count": 1,
   "metadata": {
    "collapsed": false
   },
   "outputs": [],
   "source": [
    "%matplotlib inline"
   ]
  },
  {
   "cell_type": "code",
   "execution_count": 2,
   "metadata": {
    "collapsed": false
   },
   "outputs": [],
   "source": [
    "import matplotlib.pyplot as plt\n",
    "import numpy as np\n",
    "import scipy.optimize"
   ]
  },
  {
   "cell_type": "markdown",
   "metadata": {},
   "source": [
    "## Preparation (Based on Linear Regression)"
   ]
  },
  {
   "cell_type": "markdown",
   "metadata": {},
   "source": [
    "Prepare train and test data."
   ]
  },
  {
   "cell_type": "code",
   "execution_count": 3,
   "metadata": {
    "collapsed": false
   },
   "outputs": [],
   "source": [
    "data_original = np.loadtxt('stanford_dl_ex/ex1/housing.data')\n",
    "data = np.insert(data_original, 0, 1, axis=1)\n",
    "np.random.shuffle(data)\n",
    "train_X = data[:400, :-1]\n",
    "train_y = data[:400, -1]\n",
    "\n",
    "m, n = train_X.shape\n",
    "theta = np.random.rand(n)"
   ]
  },
  {
   "cell_type": "markdown",
   "metadata": {},
   "source": [
    "Define some necessary functions."
   ]
  },
  {
   "cell_type": "code",
   "execution_count": 4,
   "metadata": {
    "collapsed": true
   },
   "outputs": [],
   "source": [
    "def cost_function(theta, X, y): \n",
    "    squared_errors = (X.dot(theta) - y) ** 2\n",
    "    J = 0.5 * squared_errors.sum()\n",
    "    return J\n",
    "\n",
    "def gradient(theta, X, y):\n",
    "    errors = X.dot(theta) - y\n",
    "    return errors.dot(X)"
   ]
  },
  {
   "cell_type": "markdown",
   "metadata": {},
   "source": [
    "## Gradient Checking"
   ]
  },
  {
   "cell_type": "markdown",
   "metadata": {},
   "source": [
    "Define \"step size\" (don't set it too low to avoid numerical precision issues)."
   ]
  },
  {
   "cell_type": "code",
   "execution_count": 5,
   "metadata": {
    "collapsed": false
   },
   "outputs": [],
   "source": [
    "epsilon = 1e-4"
   ]
  },
  {
   "cell_type": "markdown",
   "metadata": {},
   "source": [
    "Prepare theta step values (making use of numpy broadcasting)."
   ]
  },
  {
   "cell_type": "code",
   "execution_count": 6,
   "metadata": {
    "collapsed": false
   },
   "outputs": [],
   "source": [
    "mask = <YOUR_CODE_HERE>\n",
    "theta_plus = <YOUR_CODE_HERE>\n",
    "theta_minus = <YOUR_CODE_HERE>"
   ]
  },
  {
   "cell_type": "markdown",
   "metadata": {},
   "source": [
    "Compute diffs between theta's gradient as mathematically defined and the gradient as defined by our function above."
   ]
  },
  {
   "cell_type": "code",
   "execution_count": 8,
   "metadata": {
    "collapsed": false
   },
   "outputs": [],
   "source": [
    "diffs = np.empty_like(theta)\n",
    "for i in range(theta_plus.shape[0]):\n",
    "    gradient_def = (\n",
    "        <YOUR_CODE_HERE>\n",
    "    )\n",
    "    gradient_lin_reg = <YOUR_CODE_HERE>\n",
    "    diffs[i] = <YOUR_CODE_HERE>"
   ]
  },
  {
   "cell_type": "code",
   "execution_count": 9,
   "metadata": {
    "collapsed": false
   },
   "outputs": [
    {
     "data": {
      "text/plain": [
       "array([  3.31414049e-06,   1.44055812e-05,   9.00169834e-06,\n",
       "         5.53415157e-06,   6.84440965e-06,   1.88233535e-05,\n",
       "         1.28877582e-05,   1.83098018e-06,   4.86033969e-06,\n",
       "         2.71014869e-06,   3.72529030e-07,   1.79391354e-05,\n",
       "         1.09821558e-05,   1.00492034e-05])"
      ]
     },
     "execution_count": 9,
     "metadata": {},
     "output_type": "execute_result"
    }
   ],
   "source": [
    "diffs"
   ]
  },
  {
   "cell_type": "markdown",
   "metadata": {},
   "source": [
    "**Lookin' good!** The smaller the values, the better.<br>\n",
    "(Any value significantly larger than 1e-4 indicates a problem.)"
   ]
  },
  {
   "cell_type": "code",
   "execution_count": 10,
   "metadata": {
    "collapsed": false
   },
   "outputs": [],
   "source": [
    "assert all(np.less(diffs, 1e-4))"
   ]
  },
  {
   "cell_type": "markdown",
   "metadata": {},
   "source": [
    "Quality check: passed with distinction."
   ]
  }
 ],
 "metadata": {
  "kernelspec": {
   "display_name": "Python 2",
   "language": "python",
   "name": "python2"
  },
  "language_info": {
   "codemirror_mode": {
    "name": "ipython",
    "version": 2
   },
   "file_extension": ".py",
   "mimetype": "text/x-python",
   "name": "python",
   "nbconvert_exporter": "python",
   "pygments_lexer": "ipython2",
   "version": "2.7.10"
  }
 },
 "nbformat": 4,
 "nbformat_minor": 0
}
